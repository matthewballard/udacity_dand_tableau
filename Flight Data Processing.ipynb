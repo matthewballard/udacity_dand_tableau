{
 "cells": [
  {
   "cell_type": "code",
   "execution_count": 1,
   "id": "5651dcde-88d8-40e7-8418-6880b47b6e43",
   "metadata": {
    "tags": []
   },
   "outputs": [],
   "source": [
    "import pandas as pd\n",
    "import numpy as np\n",
    "import glob\n",
    "from rich.progress import track\n",
    "import re"
   ]
  },
  {
   "cell_type": "code",
   "execution_count": 2,
   "id": "65cc562d-8388-426d-9e45-6ad5bcdad294",
   "metadata": {},
   "outputs": [],
   "source": [
    "columns_to_keep = ['FlightDate',\n",
    "    'IATA_Code_Marketing_Airline',\n",
    "    'Flight_Number_Marketing_Airline',\n",
    "    'IATA_Code_Operating_Airline',\n",
    "    'Flight_Number_Operating_Airline',\n",
    "    'Origin',\n",
    "    'Dest',\n",
    "    'DepDelayMinutes',\n",
    "    'DepDel15',\n",
    "    'ArrDelayMinutes',\n",
    "    'ArrDel15',\n",
    "    'Cancelled',\n",
    "    'CarrierDelay',\n",
    "    'WeatherDelay',\n",
    "    'NASDelay',\n",
    "    'SecurityDelay',\n",
    "    'LateAircraftDelay']"
   ]
  },
  {
   "cell_type": "code",
   "execution_count": 3,
   "id": "5e6ac2ab-a946-4ed8-aaf1-03035a0b2696",
   "metadata": {},
   "outputs": [],
   "source": [
    "file_list = glob.glob('./raw_data/On_Time_Marketing_Carrier_On_Time_Performance*')"
   ]
  },
  {
   "cell_type": "code",
   "execution_count": 4,
   "id": "a3b52622-a48f-448f-bf4b-7223dd5742cd",
   "metadata": {},
   "outputs": [],
   "source": [
    "base_df = pd.read_csv(file_list[0], low_memory=False)[columns_to_keep].truncate(after=-1)"
   ]
  },
  {
   "cell_type": "code",
   "execution_count": 6,
   "id": "b9560ae0-7b0a-46aa-bd12-cce08892595c",
   "metadata": {
    "tags": []
   },
   "outputs": [
    {
     "data": {
      "text/html": [
       "<pre style=\"white-space:pre;overflow-x:auto;line-height:normal;font-family:Menlo,'DejaVu Sans Mono',consolas,'Courier New',monospace\">Processing <span style=\"color: #729c1f; text-decoration-color: #729c1f\">━━━━━━━━━━━━━━━━━━━━━━━━━━━━━━━━━━━━━━━━</span> <span style=\"color: #800080; text-decoration-color: #800080\">100%</span> <span style=\"color: #008080; text-decoration-color: #008080\">0:00:00</span>\n",
       "</pre>\n"
      ],
      "text/plain": [
       "Processing \u001B[38;2;114;156;31m━━━━━━━━━━━━━━━━━━━━━━━━━━━━━━━━━━━━━━━━\u001B[0m \u001B[35m100%\u001B[0m \u001B[36m0:00:00\u001B[0m\n"
      ]
     },
     "metadata": {},
     "output_type": "display_data"
    },
    {
     "data": {
      "text/html": [
       "<pre style=\"white-space:pre;overflow-x:auto;line-height:normal;font-family:Menlo,'DejaVu Sans Mono',consolas,'Courier New',monospace\"></pre>\n"
      ],
      "text/plain": []
     },
     "metadata": {},
     "output_type": "display_data"
    },
    {
     "data": {
      "text/html": [
       "<pre style=\"white-space:pre;overflow-x:auto;line-height:normal;font-family:Menlo,'DejaVu Sans Mono',consolas,'Courier New',monospace\">\n",
       "</pre>\n"
      ],
      "text/plain": [
       "\n"
      ]
     },
     "metadata": {},
     "output_type": "display_data"
    }
   ],
   "source": [
    "for file in track(file_list, description=\"Processing\"):\n",
    "    temp = pd.read_csv(file, low_memory=False)[columns_to_keep]\n",
    "    base_df = pd.concat([base_df, temp], axis=0)"
   ]
  },
  {
   "cell_type": "code",
   "execution_count": 7,
   "id": "a7a5933f-c3b5-4cd5-a560-a372a64d9d97",
   "metadata": {},
   "outputs": [],
   "source": [
    "day_origin_rollup_df = base_df.groupby(by=['FlightDate','IATA_Code_Marketing_Airline','IATA_Code_Operating_Airline','Origin']).agg({'Flight_Number_Marketing_Airline':'count','DepDelayMinutes':'sum','DepDel15':'sum','ArrDelayMinutes':'sum','ArrDel15':'sum','Cancelled':'sum','CarrierDelay':'sum','WeatherDelay':'sum','NASDelay':'sum','SecurityDelay':'sum','LateAircraftDelay':'sum'})"
   ]
  },
  {
   "cell_type": "code",
   "execution_count": 10,
   "id": "0d130982-da32-4549-afec-7b4c15e6e9a2",
   "metadata": {},
   "outputs": [
    {
     "data": {
      "text/plain": [
       "29193782"
      ]
     },
     "execution_count": 10,
     "metadata": {},
     "output_type": "execute_result"
    }
   ],
   "source": [
    "len(base_df)"
   ]
  },
  {
   "cell_type": "code",
   "execution_count": 8,
   "id": "fd1a7eb2-81fb-4441-a048-6ed92f80cd36",
   "metadata": {},
   "outputs": [],
   "source": [
    "base_df.reset_index().to_csv('combined_flight_info.csv',index=False)"
   ]
  },
  {
   "cell_type": "code",
   "execution_count": 9,
   "id": "16510290-0779-4a12-8db5-4adb1e45f797",
   "metadata": {},
   "outputs": [],
   "source": [
    "day_origin_rollup_df.to_csv('combined_day_origin_flight_rollup.csv',index=False)"
   ]
  },
  {
   "cell_type": "code",
   "execution_count": 8,
   "id": "211d6a7a-03e8-4482-ab5a-c8abb102b7d9",
   "metadata": {},
   "outputs": [],
   "source": [
    "# airport_df = pd.read_csv('./raw_data/L_AIRPORT.csv')"
   ]
  },
  {
   "cell_type": "code",
   "execution_count": 11,
   "id": "45209e54-0372-4d8c-bf17-230f1eb27d15",
   "metadata": {},
   "outputs": [],
   "source": [
    "# airport_df[['city_state', 'airport_name']] = airport_df.Description.str.split(':',expand=True)"
   ]
  },
  {
   "cell_type": "code",
   "execution_count": 41,
   "id": "849d60a5-c5d8-4b27-b606-af35633bcf67",
   "metadata": {},
   "outputs": [],
   "source": [
    "# airport_df[['city', 'state']] = airport_df.city_state.str.split(',',expand=True)"
   ]
  },
  {
   "cell_type": "code",
   "execution_count": 15,
   "id": "702a3a90-8ab8-4455-b4ec-e2a204c37cbd",
   "metadata": {},
   "outputs": [],
   "source": [
    "# carrier_df = pd.read_csv('./raw_data/L_CARRIER_HISTORY.csv')"
   ]
  },
  {
   "cell_type": "code",
   "execution_count": 21,
   "id": "3c2506df-7220-4f02-a864-bc17bb7e12a9",
   "metadata": {},
   "outputs": [],
   "source": [
    "# carrier_df[['carrier_name','in_service_years']] = carrier_df.Description.str.split(r'\\([0-9][0-9][0-9][0-9] -',expand=True)"
   ]
  },
  {
   "cell_type": "code",
   "execution_count": 30,
   "id": "61e54aee-9987-4cb3-aefe-aad844df9e65",
   "metadata": {},
   "outputs": [],
   "source": [
    "# carrier_df[['Code','carrier_name']].to_csv('carrier_rosetta.csv',index=False)"
   ]
  },
  {
   "cell_type": "code",
   "execution_count": 29,
   "id": "977a7774-c2b1-46bf-9653-09252ac17b62",
   "metadata": {},
   "outputs": [],
   "source": [
    "# airport_df[['Code','airport_name','city_state']].to_csv('airport_rosetta.csv',index=False)"
   ]
  }
 ],
 "metadata": {
  "kernelspec": {
   "display_name": "basic_notebook",
   "language": "python",
   "name": "basic_notebook"
  },
  "language_info": {
   "codemirror_mode": {
    "name": "ipython",
    "version": 3
   },
   "file_extension": ".py",
   "mimetype": "text/x-python",
   "name": "python",
   "nbconvert_exporter": "python",
   "pygments_lexer": "ipython3",
   "version": "3.9.4"
  }
 },
 "nbformat": 4,
 "nbformat_minor": 5
}